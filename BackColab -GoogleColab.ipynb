{
  "cells": [
    {
      "cell_type": "code",
      "execution_count": null,
      "metadata": {
        "colab": {
          "background_save": true
        },
        "id": "AoG20abAGwtS"
      },
      "outputs": [],
      "source": [
        "\n",
        "import numpy as np\n",
        "import pandas as pd\n",
        "from sklearn.model_selection import train_test_split\n",
        "from sklearn.linear_model import LinearRegression\n",
        "import pickle\n",
        "import requests\n",
        "import json\n",
        "\n",
        "\n",
        "df = pd.read_csv('vgame_sales.csv')"
      ]
    },
    {
      "cell_type": "code",
      "execution_count": null,
      "metadata": {
        "colab": {
          "base_uri": "https://localhost:8080/"
        },
        "id": "XSj4CSWvIhzY",
        "outputId": "8b2290b8-c041-406f-dc41-ad02741a3751"
      },
      "outputs": [
        {
          "name": "stdout",
          "output_type": "stream",
          "text": [
            "<class 'pandas.core.frame.DataFrame'>\n",
            "RangeIndex: 16598 entries, 0 to 16597\n",
            "Data columns (total 11 columns):\n",
            " #   Column        Non-Null Count  Dtype  \n",
            "---  ------        --------------  -----  \n",
            " 0   Rank          16598 non-null  int64  \n",
            " 1   Name          16598 non-null  object \n",
            " 2   Platform      16598 non-null  object \n",
            " 3   Year          16327 non-null  float64\n",
            " 4   Genre         16598 non-null  object \n",
            " 5   Publisher     16540 non-null  object \n",
            " 6   NA_Sales      16598 non-null  float64\n",
            " 7   EU_Sales      16598 non-null  float64\n",
            " 8   JP_Sales      16598 non-null  float64\n",
            " 9   Other_Sales   16598 non-null  float64\n",
            " 10  Global_Sales  16598 non-null  float64\n",
            "dtypes: float64(6), int64(1), object(4)\n",
            "memory usage: 1.4+ MB\n"
          ]
        }
      ],
      "source": [
        "df.info()"
      ]
    },
    {
      "cell_type": "code",
      "execution_count": null,
      "metadata": {
        "colab": {
          "base_uri": "https://localhost:8080/",
          "height": 276
        },
        "id": "fHWjsGbQQCoH",
        "outputId": "19e2fcab-2d4e-4097-b3a0-5c31d1baad2f"
      },
      "outputs": [
        {
          "data": {
            "application/vnd.google.colaboratory.intrinsic+json": {
              "summary": "{\n  \"name\": \"df\",\n  \"rows\": 16598,\n  \"fields\": [\n    {\n      \"column\": \"Rank\",\n      \"properties\": {\n        \"dtype\": \"number\",\n        \"std\": 4791,\n        \"min\": 1,\n        \"max\": 16600,\n        \"num_unique_values\": 16598,\n        \"samples\": [\n          8930,\n          4791,\n          15495\n        ],\n        \"semantic_type\": \"\",\n        \"description\": \"\"\n      }\n    },\n    {\n      \"column\": \"Name\",\n      \"properties\": {\n        \"dtype\": \"string\",\n        \"num_unique_values\": 11493,\n        \"samples\": [\n          \"Close Combat: First to Fight\",\n          \"Rock 'N Roll Racing\",\n          \"Hakuouki\"\n        ],\n        \"semantic_type\": \"\",\n        \"description\": \"\"\n      }\n    },\n    {\n      \"column\": \"Platform\",\n      \"properties\": {\n        \"dtype\": \"category\",\n        \"num_unique_values\": 31,\n        \"samples\": [\n          \"TG16\",\n          \"2600\",\n          \"SAT\"\n        ],\n        \"semantic_type\": \"\",\n        \"description\": \"\"\n      }\n    },\n    {\n      \"column\": \"Year\",\n      \"properties\": {\n        \"dtype\": \"number\",\n        \"std\": 5.828981114712805,\n        \"min\": 1980.0,\n        \"max\": 2020.0,\n        \"num_unique_values\": 39,\n        \"samples\": [\n          1981.0,\n          1983.0,\n          1996.0\n        ],\n        \"semantic_type\": \"\",\n        \"description\": \"\"\n      }\n    },\n    {\n      \"column\": \"Genre\",\n      \"properties\": {\n        \"dtype\": \"category\",\n        \"num_unique_values\": 12,\n        \"samples\": [\n          \"Adventure\",\n          \"Fighting\",\n          \"Sports\"\n        ],\n        \"semantic_type\": \"\",\n        \"description\": \"\"\n      }\n    },\n    {\n      \"column\": \"Publisher\",\n      \"properties\": {\n        \"dtype\": \"category\",\n        \"num_unique_values\": 578,\n        \"samples\": [\n          \"JoWood Productions\",\n          \"Takuyo\",\n          \"Kamui\"\n        ],\n        \"semantic_type\": \"\",\n        \"description\": \"\"\n      }\n    },\n    {\n      \"column\": \"NA_Sales\",\n      \"properties\": {\n        \"dtype\": \"number\",\n        \"std\": 0.8166830292988796,\n        \"min\": 0.0,\n        \"max\": 41.49,\n        \"num_unique_values\": 409,\n        \"samples\": [\n          1.7,\n          2.97,\n          3.92\n        ],\n        \"semantic_type\": \"\",\n        \"description\": \"\"\n      }\n    },\n    {\n      \"column\": \"EU_Sales\",\n      \"properties\": {\n        \"dtype\": \"number\",\n        \"std\": 0.5053512312869116,\n        \"min\": 0.0,\n        \"max\": 29.02,\n        \"num_unique_values\": 305,\n        \"samples\": [\n          1.15,\n          0.98,\n          2.25\n        ],\n        \"semantic_type\": \"\",\n        \"description\": \"\"\n      }\n    },\n    {\n      \"column\": \"JP_Sales\",\n      \"properties\": {\n        \"dtype\": \"number\",\n        \"std\": 0.30929064808220297,\n        \"min\": 0.0,\n        \"max\": 10.22,\n        \"num_unique_values\": 244,\n        \"samples\": [\n          0.47,\n          6.5,\n          2.1\n        ],\n        \"semantic_type\": \"\",\n        \"description\": \"\"\n      }\n    },\n    {\n      \"column\": \"Other_Sales\",\n      \"properties\": {\n        \"dtype\": \"number\",\n        \"std\": 0.18858840291271461,\n        \"min\": 0.0,\n        \"max\": 10.57,\n        \"num_unique_values\": 157,\n        \"samples\": [\n          0.38,\n          0.23,\n          0.48\n        ],\n        \"semantic_type\": \"\",\n        \"description\": \"\"\n      }\n    },\n    {\n      \"column\": \"Global_Sales\",\n      \"properties\": {\n        \"dtype\": \"number\",\n        \"std\": 1.5550279355699124,\n        \"min\": 0.01,\n        \"max\": 82.74,\n        \"num_unique_values\": 623,\n        \"samples\": [\n          3.91,\n          0.65,\n          5.11\n        ],\n        \"semantic_type\": \"\",\n        \"description\": \"\"\n      }\n    }\n  ]\n}",
              "type": "dataframe",
              "variable_name": "df"
            },
            "text/html": [
              "\n",
              "  <div id=\"df-77a39d12-147a-4956-81e1-f28efc13fb75\" class=\"colab-df-container\">\n",
              "    <div>\n",
              "<style scoped>\n",
              "    .dataframe tbody tr th:only-of-type {\n",
              "        vertical-align: middle;\n",
              "    }\n",
              "\n",
              "    .dataframe tbody tr th {\n",
              "        vertical-align: top;\n",
              "    }\n",
              "\n",
              "    .dataframe thead th {\n",
              "        text-align: right;\n",
              "    }\n",
              "</style>\n",
              "<table border=\"1\" class=\"dataframe\">\n",
              "  <thead>\n",
              "    <tr style=\"text-align: right;\">\n",
              "      <th></th>\n",
              "      <th>Rank</th>\n",
              "      <th>Name</th>\n",
              "      <th>Platform</th>\n",
              "      <th>Year</th>\n",
              "      <th>Genre</th>\n",
              "      <th>Publisher</th>\n",
              "      <th>NA_Sales</th>\n",
              "      <th>EU_Sales</th>\n",
              "      <th>JP_Sales</th>\n",
              "      <th>Other_Sales</th>\n",
              "      <th>Global_Sales</th>\n",
              "    </tr>\n",
              "  </thead>\n",
              "  <tbody>\n",
              "    <tr>\n",
              "      <th>0</th>\n",
              "      <td>1</td>\n",
              "      <td>Wii Sports</td>\n",
              "      <td>Wii</td>\n",
              "      <td>2006.0</td>\n",
              "      <td>Sports</td>\n",
              "      <td>Nintendo</td>\n",
              "      <td>41.49</td>\n",
              "      <td>29.02</td>\n",
              "      <td>3.77</td>\n",
              "      <td>8.46</td>\n",
              "      <td>82.74</td>\n",
              "    </tr>\n",
              "    <tr>\n",
              "      <th>1</th>\n",
              "      <td>2</td>\n",
              "      <td>Super Mario Bros.</td>\n",
              "      <td>NES</td>\n",
              "      <td>1985.0</td>\n",
              "      <td>Platform</td>\n",
              "      <td>Nintendo</td>\n",
              "      <td>29.08</td>\n",
              "      <td>3.58</td>\n",
              "      <td>6.81</td>\n",
              "      <td>0.77</td>\n",
              "      <td>40.24</td>\n",
              "    </tr>\n",
              "    <tr>\n",
              "      <th>2</th>\n",
              "      <td>3</td>\n",
              "      <td>Mario Kart Wii</td>\n",
              "      <td>Wii</td>\n",
              "      <td>2008.0</td>\n",
              "      <td>Racing</td>\n",
              "      <td>Nintendo</td>\n",
              "      <td>15.85</td>\n",
              "      <td>12.88</td>\n",
              "      <td>3.79</td>\n",
              "      <td>3.31</td>\n",
              "      <td>35.82</td>\n",
              "    </tr>\n",
              "    <tr>\n",
              "      <th>3</th>\n",
              "      <td>4</td>\n",
              "      <td>Wii Sports Resort</td>\n",
              "      <td>Wii</td>\n",
              "      <td>2009.0</td>\n",
              "      <td>Sports</td>\n",
              "      <td>Nintendo</td>\n",
              "      <td>15.75</td>\n",
              "      <td>11.01</td>\n",
              "      <td>3.28</td>\n",
              "      <td>2.96</td>\n",
              "      <td>33.00</td>\n",
              "    </tr>\n",
              "    <tr>\n",
              "      <th>4</th>\n",
              "      <td>5</td>\n",
              "      <td>Pokemon Red/Pokemon Blue</td>\n",
              "      <td>GB</td>\n",
              "      <td>1996.0</td>\n",
              "      <td>Role-Playing</td>\n",
              "      <td>Nintendo</td>\n",
              "      <td>11.27</td>\n",
              "      <td>8.89</td>\n",
              "      <td>10.22</td>\n",
              "      <td>1.00</td>\n",
              "      <td>31.37</td>\n",
              "    </tr>\n",
              "  </tbody>\n",
              "</table>\n",
              "</div>\n",
              "    <div class=\"colab-df-buttons\">\n",
              "\n",
              "  <div class=\"colab-df-container\">\n",
              "    <button class=\"colab-df-convert\" onclick=\"convertToInteractive('df-77a39d12-147a-4956-81e1-f28efc13fb75')\"\n",
              "            title=\"Convert this dataframe to an interactive table.\"\n",
              "            style=\"display:none;\">\n",
              "\n",
              "  <svg xmlns=\"http://www.w3.org/2000/svg\" height=\"24px\" viewBox=\"0 -960 960 960\">\n",
              "    <path d=\"M120-120v-720h720v720H120Zm60-500h600v-160H180v160Zm220 220h160v-160H400v160Zm0 220h160v-160H400v160ZM180-400h160v-160H180v160Zm440 0h160v-160H620v160ZM180-180h160v-160H180v160Zm440 0h160v-160H620v160Z\"/>\n",
              "  </svg>\n",
              "    </button>\n",
              "\n",
              "  <style>\n",
              "    .colab-df-container {\n",
              "      display:flex;\n",
              "      gap: 12px;\n",
              "    }\n",
              "\n",
              "    .colab-df-convert {\n",
              "      background-color: #E8F0FE;\n",
              "      border: none;\n",
              "      border-radius: 50%;\n",
              "      cursor: pointer;\n",
              "      display: none;\n",
              "      fill: #1967D2;\n",
              "      height: 32px;\n",
              "      padding: 0 0 0 0;\n",
              "      width: 32px;\n",
              "    }\n",
              "\n",
              "    .colab-df-convert:hover {\n",
              "      background-color: #E2EBFA;\n",
              "      box-shadow: 0px 1px 2px rgba(60, 64, 67, 0.3), 0px 1px 3px 1px rgba(60, 64, 67, 0.15);\n",
              "      fill: #174EA6;\n",
              "    }\n",
              "\n",
              "    .colab-df-buttons div {\n",
              "      margin-bottom: 4px;\n",
              "    }\n",
              "\n",
              "    [theme=dark] .colab-df-convert {\n",
              "      background-color: #3B4455;\n",
              "      fill: #D2E3FC;\n",
              "    }\n",
              "\n",
              "    [theme=dark] .colab-df-convert:hover {\n",
              "      background-color: #434B5C;\n",
              "      box-shadow: 0px 1px 3px 1px rgba(0, 0, 0, 0.15);\n",
              "      filter: drop-shadow(0px 1px 2px rgba(0, 0, 0, 0.3));\n",
              "      fill: #FFFFFF;\n",
              "    }\n",
              "  </style>\n",
              "\n",
              "    <script>\n",
              "      const buttonEl =\n",
              "        document.querySelector('#df-77a39d12-147a-4956-81e1-f28efc13fb75 button.colab-df-convert');\n",
              "      buttonEl.style.display =\n",
              "        google.colab.kernel.accessAllowed ? 'block' : 'none';\n",
              "\n",
              "      async function convertToInteractive(key) {\n",
              "        const element = document.querySelector('#df-77a39d12-147a-4956-81e1-f28efc13fb75');\n",
              "        const dataTable =\n",
              "          await google.colab.kernel.invokeFunction('convertToInteractive',\n",
              "                                                    [key], {});\n",
              "        if (!dataTable) return;\n",
              "\n",
              "        const docLinkHtml = 'Like what you see? Visit the ' +\n",
              "          '<a target=\"_blank\" href=https://colab.research.google.com/notebooks/data_table.ipynb>data table notebook</a>'\n",
              "          + ' to learn more about interactive tables.';\n",
              "        element.innerHTML = '';\n",
              "        dataTable['output_type'] = 'display_data';\n",
              "        await google.colab.output.renderOutput(dataTable, element);\n",
              "        const docLink = document.createElement('div');\n",
              "        docLink.innerHTML = docLinkHtml;\n",
              "        element.appendChild(docLink);\n",
              "      }\n",
              "    </script>\n",
              "  </div>\n",
              "\n",
              "\n",
              "<div id=\"df-8c1f8384-0c85-4ead-847d-55c99e7cc568\">\n",
              "  <button class=\"colab-df-quickchart\" onclick=\"quickchart('df-8c1f8384-0c85-4ead-847d-55c99e7cc568')\"\n",
              "            title=\"Suggest charts\"\n",
              "            style=\"display:none;\">\n",
              "\n",
              "<svg xmlns=\"http://www.w3.org/2000/svg\" height=\"24px\"viewBox=\"0 0 24 24\"\n",
              "     width=\"24px\">\n",
              "    <g>\n",
              "        <path d=\"M19 3H5c-1.1 0-2 .9-2 2v14c0 1.1.9 2 2 2h14c1.1 0 2-.9 2-2V5c0-1.1-.9-2-2-2zM9 17H7v-7h2v7zm4 0h-2V7h2v10zm4 0h-2v-4h2v4z\"/>\n",
              "    </g>\n",
              "</svg>\n",
              "  </button>\n",
              "\n",
              "<style>\n",
              "  .colab-df-quickchart {\n",
              "      --bg-color: #E8F0FE;\n",
              "      --fill-color: #1967D2;\n",
              "      --hover-bg-color: #E2EBFA;\n",
              "      --hover-fill-color: #174EA6;\n",
              "      --disabled-fill-color: #AAA;\n",
              "      --disabled-bg-color: #DDD;\n",
              "  }\n",
              "\n",
              "  [theme=dark] .colab-df-quickchart {\n",
              "      --bg-color: #3B4455;\n",
              "      --fill-color: #D2E3FC;\n",
              "      --hover-bg-color: #434B5C;\n",
              "      --hover-fill-color: #FFFFFF;\n",
              "      --disabled-bg-color: #3B4455;\n",
              "      --disabled-fill-color: #666;\n",
              "  }\n",
              "\n",
              "  .colab-df-quickchart {\n",
              "    background-color: var(--bg-color);\n",
              "    border: none;\n",
              "    border-radius: 50%;\n",
              "    cursor: pointer;\n",
              "    display: none;\n",
              "    fill: var(--fill-color);\n",
              "    height: 32px;\n",
              "    padding: 0;\n",
              "    width: 32px;\n",
              "  }\n",
              "\n",
              "  .colab-df-quickchart:hover {\n",
              "    background-color: var(--hover-bg-color);\n",
              "    box-shadow: 0 1px 2px rgba(60, 64, 67, 0.3), 0 1px 3px 1px rgba(60, 64, 67, 0.15);\n",
              "    fill: var(--button-hover-fill-color);\n",
              "  }\n",
              "\n",
              "  .colab-df-quickchart-complete:disabled,\n",
              "  .colab-df-quickchart-complete:disabled:hover {\n",
              "    background-color: var(--disabled-bg-color);\n",
              "    fill: var(--disabled-fill-color);\n",
              "    box-shadow: none;\n",
              "  }\n",
              "\n",
              "  .colab-df-spinner {\n",
              "    border: 2px solid var(--fill-color);\n",
              "    border-color: transparent;\n",
              "    border-bottom-color: var(--fill-color);\n",
              "    animation:\n",
              "      spin 1s steps(1) infinite;\n",
              "  }\n",
              "\n",
              "  @keyframes spin {\n",
              "    0% {\n",
              "      border-color: transparent;\n",
              "      border-bottom-color: var(--fill-color);\n",
              "      border-left-color: var(--fill-color);\n",
              "    }\n",
              "    20% {\n",
              "      border-color: transparent;\n",
              "      border-left-color: var(--fill-color);\n",
              "      border-top-color: var(--fill-color);\n",
              "    }\n",
              "    30% {\n",
              "      border-color: transparent;\n",
              "      border-left-color: var(--fill-color);\n",
              "      border-top-color: var(--fill-color);\n",
              "      border-right-color: var(--fill-color);\n",
              "    }\n",
              "    40% {\n",
              "      border-color: transparent;\n",
              "      border-right-color: var(--fill-color);\n",
              "      border-top-color: var(--fill-color);\n",
              "    }\n",
              "    60% {\n",
              "      border-color: transparent;\n",
              "      border-right-color: var(--fill-color);\n",
              "    }\n",
              "    80% {\n",
              "      border-color: transparent;\n",
              "      border-right-color: var(--fill-color);\n",
              "      border-bottom-color: var(--fill-color);\n",
              "    }\n",
              "    90% {\n",
              "      border-color: transparent;\n",
              "      border-bottom-color: var(--fill-color);\n",
              "    }\n",
              "  }\n",
              "</style>\n",
              "\n",
              "  <script>\n",
              "    async function quickchart(key) {\n",
              "      const quickchartButtonEl =\n",
              "        document.querySelector('#' + key + ' button');\n",
              "      quickchartButtonEl.disabled = true;  // To prevent multiple clicks.\n",
              "      quickchartButtonEl.classList.add('colab-df-spinner');\n",
              "      try {\n",
              "        const charts = await google.colab.kernel.invokeFunction(\n",
              "            'suggestCharts', [key], {});\n",
              "      } catch (error) {\n",
              "        console.error('Error during call to suggestCharts:', error);\n",
              "      }\n",
              "      quickchartButtonEl.classList.remove('colab-df-spinner');\n",
              "      quickchartButtonEl.classList.add('colab-df-quickchart-complete');\n",
              "    }\n",
              "    (() => {\n",
              "      let quickchartButtonEl =\n",
              "        document.querySelector('#df-8c1f8384-0c85-4ead-847d-55c99e7cc568 button');\n",
              "      quickchartButtonEl.style.display =\n",
              "        google.colab.kernel.accessAllowed ? 'block' : 'none';\n",
              "    })();\n",
              "  </script>\n",
              "</div>\n",
              "\n",
              "    </div>\n",
              "  </div>\n"
            ],
            "text/plain": [
              "   Rank                      Name Platform    Year         Genre Publisher  \\\n",
              "0     1                Wii Sports      Wii  2006.0        Sports  Nintendo   \n",
              "1     2         Super Mario Bros.      NES  1985.0      Platform  Nintendo   \n",
              "2     3            Mario Kart Wii      Wii  2008.0        Racing  Nintendo   \n",
              "3     4         Wii Sports Resort      Wii  2009.0        Sports  Nintendo   \n",
              "4     5  Pokemon Red/Pokemon Blue       GB  1996.0  Role-Playing  Nintendo   \n",
              "\n",
              "   NA_Sales  EU_Sales  JP_Sales  Other_Sales  Global_Sales  \n",
              "0     41.49     29.02      3.77         8.46         82.74  \n",
              "1     29.08      3.58      6.81         0.77         40.24  \n",
              "2     15.85     12.88      3.79         3.31         35.82  \n",
              "3     15.75     11.01      3.28         2.96         33.00  \n",
              "4     11.27      8.89     10.22         1.00         31.37  "
            ]
          },
          "execution_count": 3,
          "metadata": {},
          "output_type": "execute_result"
        }
      ],
      "source": [
        "df.head()"
      ]
    },
    {
      "cell_type": "code",
      "execution_count": null,
      "metadata": {
        "colab": {
          "base_uri": "https://localhost:8080/"
        },
        "id": "9GIWxvNJiFis",
        "outputId": "2d4bef07-d383-4376-c342-791ee4f40518"
      },
      "outputs": [
        {
          "name": "stdout",
          "output_type": "stream",
          "text": [
            "['Nintendo' 'Microsoft Game Studios' 'Take-Two Interactive'\n",
            " 'Sony Computer Entertainment' 'Activision' 'Ubisoft' 'Bethesda Softworks'\n",
            " 'Electronic Arts' 'Sega' 'SquareSoft' 'Atari' '505 Games' 'Capcom'\n",
            " 'GT Interactive' 'Konami Digital Entertainment'\n",
            " 'Sony Computer Entertainment Europe' 'Square Enix' 'LucasArts'\n",
            " 'Virgin Interactive' 'Warner Bros. Interactive Entertainment'\n",
            " 'Universal Interactive' 'Eidos Interactive' 'RedOctane' 'Vivendi Games'\n",
            " 'Enix Corporation' 'Namco Bandai Games' 'Palcom' 'Hasbro Interactive'\n",
            " 'THQ' 'Fox Interactive' 'Acclaim Entertainment' 'MTV Games'\n",
            " 'Disney Interactive Studios' nan 'Majesco Entertainment' 'Codemasters'\n",
            " 'Red Orb' 'Level 5' 'Arena Entertainment' 'Midway Games' 'JVC'\n",
            " 'Deep Silver' '989 Studios' 'NCSoft' 'UEP Systems' 'Parker Bros.' 'Maxis'\n",
            " 'Imagic' 'Tecmo Koei' 'Valve Software' 'ASCII Entertainment' 'Mindscape'\n",
            " 'Infogrames' 'Unknown' 'Square' 'Valve' 'Activision Value' 'Banpresto'\n",
            " 'D3Publisher' 'Oxygen Interactive' 'Red Storm Entertainment'\n",
            " 'Video System' 'Hello Games' 'Global Star' 'Gotham Games'\n",
            " 'Westwood Studios' 'GungHo' 'Crave Entertainment' 'Hudson Soft' 'Coleco'\n",
            " 'Rising Star Games' 'Atlus' 'TDK Mediactive' 'ASC Games' 'Zoo Games'\n",
            " 'Accolade' 'Sony Online Entertainment' '3DO' 'RTL' 'Natsume'\n",
            " 'Focus Home Interactive' 'Alchemist' 'Black Label Games'\n",
            " 'SouthPeak Games' 'Mastertronic' 'Ocean' 'Zoo Digital Publishing'\n",
            " 'Psygnosis' 'City Interactive' 'Empire Interactive' 'Success' 'Compile'\n",
            " 'Russel' 'Taito' 'Agetec' 'GSP' 'Microprose' 'Play It'\n",
            " 'Slightly Mad Studios' 'Tomy Corporation' 'Sammy Corporation'\n",
            " 'Koch Media' 'Game Factory' 'Titus' 'Marvelous Entertainment' 'Genki'\n",
            " 'Mojang' 'Pinnacle' 'CTO SpA' 'TalonSoft' 'Crystal Dynamics' 'SCi'\n",
            " 'Quelle' 'mixi, Inc' 'Rage Software' 'Ubisoft Annecy' 'Scholastic Inc.'\n",
            " 'Interplay' 'Mystique' 'ChunSoft' 'Square EA'\n",
            " '20th Century Fox Video Games' 'Avanquest Software'\n",
            " 'Hudson Entertainment' 'Nordic Games' 'Men-A-Vision' 'Nobilis'\n",
            " 'Big Ben Interactive' 'Touchstone' 'Spike' 'Jester Interactive'\n",
            " 'Nippon Ichi Software' 'LEGO Media' 'Quest' 'Illusion Softworks'\n",
            " 'Tigervision' 'Funbox Media' 'Rocket Company' 'Metro 3D'\n",
            " 'Mattel Interactive' 'IE Institute' 'Rondomedia'\n",
            " 'Sony Computer Entertainment America' 'Universal Gamex' 'Ghostlight'\n",
            " 'Wizard Video Games' 'BMG Interactive Entertainment' 'PQube'\n",
            " 'Trion Worlds' 'Laguna' 'Ignition Entertainment' 'Takara'\n",
            " 'Kadokawa Shoten' 'Destineer' 'Enterbrain' 'Xseed Games' 'Imagineer'\n",
            " 'System 3 Arcade Software' 'CPG Products' 'Aruze Corp' 'Gamebridge'\n",
            " 'Midas Interactive Entertainment' 'Jaleco' 'Answer Software' 'XS Games'\n",
            " 'Activision Blizzard' 'Pack In Soft' 'Rebellion' 'Xplosiv' 'Ultravision'\n",
            " 'GameMill Entertainment' 'Wanadoo' 'NovaLogic' 'Telltale Games' 'Epoch'\n",
            " 'BAM! Entertainment' 'Knowledge Adventure' 'Mastiff' 'Tetris Online'\n",
            " 'Harmonix Music Systems' 'ESP' 'TYO' 'Telegames' 'Mud Duck Productions'\n",
            " 'Screenlife' 'Pioneer LDC' 'Magical Company' 'Mentor Interactive' 'Kemco'\n",
            " 'Human Entertainment' 'Avanquest' 'Data Age' 'Electronic Arts Victor'\n",
            " 'Black Bean Games' 'Jack of All Games' '989 Sports' 'Takara Tomy'\n",
            " 'Media Rings' 'Elf' 'Kalypso Media' 'Starfish' 'Zushi Games' 'Jorudan'\n",
            " 'Destination Software, Inc' 'New' 'Brash Entertainment'\n",
            " 'ITT Family Games' 'PopCap Games' 'Home Entertainment Suppliers'\n",
            " 'Ackkstudios' 'Starpath Corp.' 'P2 Games' 'BPS' 'Gathering of Developers'\n",
            " 'NewKidCo' 'Storm City Games' 'CokeM Interactive' 'CBS Electronics'\n",
            " 'Magix' 'Marvelous Interactive' 'Nihon Falcom Corporation'\n",
            " 'Wargaming.net' 'Angel Studios' 'Arc System Works' 'Playmates'\n",
            " 'SNK Playmore' 'Hamster Corporation' 'From Software' 'Nippon Columbia'\n",
            " 'Nichibutsu' 'Little Orbit' 'Conspiracy Entertainment'\n",
            " 'DTP Entertainment' 'Hect' 'Mumbo Jumbo' 'Pacific Century Cyber Works'\n",
            " 'Indie Games' 'Liquid Games' 'NEC' 'Axela' 'ArtDink' 'Sunsoft' 'Gust'\n",
            " 'SNK' 'NEC Interchannel' 'FuRyu' 'Xing Entertainment' 'ValuSoft'\n",
            " 'Victor Interactive' 'Detn8 Games' 'American Softworks' 'Nordcurrent'\n",
            " 'Bomb' 'Falcom Corporation' 'AQ Interactive' 'CCP' 'Milestone S.r.l.'\n",
            " 'Sears' 'JoWood Productions' 'Seta Corporation' 'On Demand' 'NCS' 'Aspyr'\n",
            " 'Gremlin Interactive Ltd' 'Agatsuma Entertainment' 'Compile Heart'\n",
            " 'Culture Brain' 'Mad Catz' 'Shogakukan' 'Merscom LLC'\n",
            " 'Rebellion Developments' 'Nippon Telenet' 'TDK Core' 'bitComposer Games'\n",
            " 'Foreign Media Games' 'Astragon' 'SSI' 'Kadokawa Games' 'Idea Factory'\n",
            " 'Performance Designed Products' 'Asylum Entertainment' 'Core Design Ltd.'\n",
            " 'PlayV' 'UFO Interactive' 'Idea Factory International'\n",
            " 'Playlogic Game Factory' 'Essential Games' 'Adeline Software' 'Funcom'\n",
            " 'Panther Software' 'Blast! Entertainment Ltd' 'Game Life' 'DSI Games'\n",
            " 'Avalon Interactive' 'Popcorn Arcade' 'Neko Entertainment'\n",
            " 'Vir2L Studios' 'Aques' 'Syscom' 'White Park Bay Software' 'System 3'\n",
            " 'Vatical Entertainment' 'Daedalic' 'EA Games' 'Media Factory' 'Vic Tokai'\n",
            " 'The Adventure Company' 'Game Arts' 'Broccoli' 'Acquire'\n",
            " 'General Entertainment' 'Excalibur Publishing' 'Imadio'\n",
            " 'Swing! Entertainment' 'Sony Music Entertainment' 'Aqua Plus'\n",
            " 'Paradox Interactive' 'Hip Interactive' 'DreamCatcher Interactive'\n",
            " 'Tripwire Interactive' 'Sting' 'Yacht Club Games' 'SCS Software'\n",
            " 'Bigben Interactive' 'Havas Interactive' 'Slitherine Software' 'Graffiti'\n",
            " 'Funsta' 'Telstar' 'U.S. Gold' 'DreamWorks Interactive'\n",
            " 'Data Design Interactive' 'MTO' 'DHM Interactive' 'FunSoft' 'SPS'\n",
            " 'Bohemia Interactive' 'Reef Entertainment' 'Tru Blu Entertainment' 'Moss'\n",
            " 'T&E Soft' 'O-Games' 'Aksys Games' 'NDA Productions' 'Data East'\n",
            " 'Time Warner Interactive' 'Gainax Network Systems' 'Daito'\n",
            " 'O3 Entertainment' 'Gameloft' 'Xicat Interactive'\n",
            " 'Simon & Schuster Interactive' 'Valcon Games' 'PopTop Software' 'TOHO'\n",
            " 'HMH Interactive' '5pb' 'Cave' 'CDV Software Entertainment' 'Microids'\n",
            " 'PM Studios' 'Paon' 'Micro Cabin' 'GameTek' 'Benesse' 'Type-Moon'\n",
            " 'Enjoy Gaming ltd.' 'Asmik Corp' 'Interplay Productions'\n",
            " 'Asmik Ace Entertainment' 'inXile Entertainment' 'Image Epoch'\n",
            " 'Phantom EFX' 'Evolved Games' 'responDESIGN' 'Culture Publishers'\n",
            " 'Griffin International' 'Hackberry' 'Hearty Robin' 'Nippon Amuse'\n",
            " 'Origin Systems' 'Seventh Chord' 'Mitsui' 'Milestone' 'Abylight'\n",
            " 'Flight-Plan' 'Glams' 'Locus' 'Warp' 'Daedalic Entertainment'\n",
            " 'Alternative Software' 'Myelin Media' 'Mercury Games'\n",
            " 'Irem Software Engineering' 'Sunrise Interactive' 'Elite'\n",
            " 'Evolution Games' 'Tivola' 'Global A Entertainment' 'Edia' 'Athena'\n",
            " 'Aria' 'Gamecock' 'Tommo' 'Altron' 'Happinet' 'iWin' 'Media Works'\n",
            " 'Fortyfive' 'Revolution Software' 'Imax' 'Crimson Cow' '10TACLE Studios'\n",
            " 'Groove Games' 'Pack-In-Video' 'Insomniac Games'\n",
            " 'Ascaron Entertainment GmbH' 'Asgard' 'Ecole' 'Yumedia' 'Phenomedia'\n",
            " 'HAL Laboratory' 'Grand Prix Games' 'DigiCube' 'Creative Core'\n",
            " 'Kaga Create' 'WayForward Technologies' 'LSP Games' 'ASCII Media Works'\n",
            " 'Coconuts Japan' 'Arika' 'Ertain' 'Marvel Entertainment' 'Prototype'\n",
            " 'TopWare Interactive' 'Phantagram' '1C Company' 'The Learning Company'\n",
            " 'TechnoSoft' 'Vap' 'Misawa' 'Tradewest' 'Team17 Software' 'Yeti' 'Pow'\n",
            " 'Navarre Corp' 'MediaQuest' 'Max Five' 'Comfort'\n",
            " 'Monte Christo Multimedia' 'Pony Canyon' 'Riverhillsoft' 'Summitsoft'\n",
            " 'Milestone S.r.l' 'Playmore' 'MLB.com' 'Kool Kizz' 'Flashpoint Games'\n",
            " '49Games' 'Legacy Interactive' 'Alawar Entertainment' 'CyberFront'\n",
            " 'Cloud Imperium Games Corporation' 'Societa' 'Virtual Play Games'\n",
            " 'Interchannel' 'Sonnet' 'Experience Inc.' 'Zenrin' 'Iceberg Interactive'\n",
            " 'Ivolgamus' '2D Boy' 'MC2 Entertainment' 'Kando Games' 'Just Flight'\n",
            " 'Office Create' 'Mamba Games' 'Fields' 'Princess Soft'\n",
            " 'Maximum Family Games' 'Berkeley' 'Fuji' 'Dusenberry Martin Racing'\n",
            " 'imageepoch Inc.' 'Big Fish Games' 'Her Interactive' 'Kamui' 'ASK'\n",
            " 'Headup Games' 'KSS' 'Cygames' 'KID' 'Quinrose' 'Sunflowers'\n",
            " 'dramatic create' 'TGL' 'Encore' 'Extreme Entertainment Group'\n",
            " 'Intergrow' 'G.Rev' 'Sweets' 'Kokopeli Digital Studios' 'Number None'\n",
            " 'Nexon' 'id Software' 'BushiRoad' 'Tryfirst' 'Strategy First' '7G//AMES'\n",
            " 'GN Software' \"Yuke's\" 'Easy Interactive' 'Licensed 4U'\n",
            " 'FuRyu Corporation' 'Lexicon Entertainment' 'Paon Corporation'\n",
            " 'Kids Station' 'GOA' 'Graphsim Entertainment' 'King Records'\n",
            " 'Introversion Software' 'Minato Station' 'Devolver Digital' 'Blue Byte'\n",
            " 'Gaga' 'Yamasa Entertainment' 'Plenty' 'Views' 'fonfun' 'NetRevo'\n",
            " 'Codemasters Online' 'Quintet' 'Phoenix Games' 'Dorart' 'Marvelous Games'\n",
            " 'Focus Multimedia' 'Imageworks' 'Karin Entertainment' 'Aerosoft'\n",
            " 'Technos Japan Corporation' 'Gakken' 'Mirai Shounen' 'Datam Polystar'\n",
            " 'Saurus' 'HuneX' 'Revolution (Japan)' 'Giza10' 'Visco' 'Alvion' 'Mycom'\n",
            " 'Giga' 'Warashi' 'System Soft' 'Sold Out' 'Lighthouse Interactive'\n",
            " 'Masque Publishing' 'RED Entertainment' 'Michaelsoft'\n",
            " 'Media Entertainment' 'New World Computing' 'Genterprise'\n",
            " 'Interworks Unlimited, Inc.' 'Boost On' 'Stainless Games'\n",
            " 'EON Digital Entertainment' 'Epic Games' 'Naxat Soft'\n",
            " 'Ascaron Entertainment' 'Piacci' 'Nitroplus' 'Paradox Development'\n",
            " 'Otomate' 'Ongakukan' 'Commseed' 'Inti Creates' 'Takuyo'\n",
            " 'Interchannel-Holon' 'Rain Games' 'UIG Entertainment']\n"
          ]
        }
      ],
      "source": [
        "distinct_Publisher = df['Publisher'].unique()\n",
        "print(distinct_Publisher)"
      ]
    },
    {
      "cell_type": "code",
      "execution_count": null,
      "metadata": {
        "colab": {
          "base_uri": "https://localhost:8080/"
        },
        "id": "zDieOOvwhuIP",
        "outputId": "c82eabfb-87b1-4b40-9d8f-66e1150f1022"
      },
      "outputs": [
        {
          "name": "stdout",
          "output_type": "stream",
          "text": [
            "['Wii' 'NES' 'GB' 'DS' 'X360' 'PS3' 'PS2' 'SNES' 'GBA' '3DS' 'PS4' 'N64'\n",
            " 'PS' 'XB' 'PC' '2600' 'PSP' 'XOne' 'GC' 'WiiU' 'GEN' 'DC' 'PSV' 'SAT'\n",
            " 'SCD' 'WS' 'NG' 'TG16' '3DO' 'GG' 'PCFX']\n"
          ]
        }
      ],
      "source": [
        "distinct_Platform = df['Platform'].unique()\n",
        "print(distinct_Platform)"
      ]
    },
    {
      "cell_type": "code",
      "execution_count": null,
      "metadata": {
        "colab": {
          "base_uri": "https://localhost:8080/"
        },
        "id": "UjwioRJFcEdk",
        "outputId": "f5b9fcaf-abb6-4a5e-ad7c-c437e13cb07c"
      },
      "outputs": [
        {
          "name": "stdout",
          "output_type": "stream",
          "text": [
            "[2006. 1985. 2008. 2009. 1996. 1989. 1984. 2005. 1999. 2007. 2010. 2013.\n",
            " 2004. 1990. 1988. 2002. 2001. 2011. 1998. 2015. 2012. 2014. 1992. 1997.\n",
            " 1993. 1994. 1982. 2003. 1986. 2000.   nan 1995. 2016. 1991. 1981. 1987.\n",
            " 1980. 1983. 2020. 2017.]\n"
          ]
        }
      ],
      "source": [
        "distinct_year = df['Year'].unique()\n",
        "print(distinct_year)"
      ]
    },
    {
      "cell_type": "code",
      "execution_count": null,
      "metadata": {
        "colab": {
          "base_uri": "https://localhost:8080/"
        },
        "id": "SCI2gf9mR6Ny",
        "outputId": "01651ade-124d-46ef-9289-27d63d118ab1"
      },
      "outputs": [
        {
          "name": "stdout",
          "output_type": "stream",
          "text": [
            "['Sports' 'Platform' 'Racing' 'Role-Playing' 'Puzzle' 'Misc' 'Shooter'\n",
            " 'Simulation' 'Action' 'Fighting' 'Adventure' 'Strategy']\n"
          ]
        }
      ],
      "source": [
        "distinct_genres = df['Genre'].unique()\n",
        "print(distinct_genres)\n"
      ]
    },
    {
      "cell_type": "code",
      "execution_count": null,
      "metadata": {
        "colab": {
          "base_uri": "https://localhost:8080/"
        },
        "id": "_XM7ts52Bgm1",
        "outputId": "9557c21c-75d0-4107-bded-eb9bc5ebc512"
      },
      "outputs": [
        {
          "output_type": "stream",
          "name": "stdout",
          "text": [
            "Mean Squared Error: 0.8320519490039877\n"
          ]
        }
      ],
      "source": [
        "import pandas as pd\n",
        "from sklearn.model_selection import train_test_split\n",
        "from sklearn.linear_model import LinearRegression\n",
        "from sklearn.preprocessing import OneHotEncoder\n",
        "from sklearn.compose import ColumnTransformer\n",
        "from sklearn.pipeline import Pipeline\n",
        "from sklearn.impute import SimpleImputer\n",
        "from sklearn.metrics import mean_squared_error\n",
        "import pickle\n",
        "\n",
        "\n",
        "df = pd.read_csv('vgame_sales.csv')\n",
        "\n",
        "\n",
        "X = df[['Publisher', 'Year', 'Genre' ]]\n",
        "y = df['NA_Sales']\n",
        "\n",
        "categorical_features = ['Publisher','Genre']\n",
        "categorical_transformer = Pipeline(steps=[\n",
        "    ('imputer', SimpleImputer(strategy='constant', fill_value='missing')),\n",
        "    ('onehot', OneHotEncoder(handle_unknown='ignore'))\n",
        "])\n",
        "\n",
        "numeric_features = ['Year']\n",
        "numeric_transformer = Pipeline(steps=[\n",
        "    ('imputer', SimpleImputer(strategy='median'))\n",
        "])\n",
        "\n",
        "\n",
        "preprocessor = ColumnTransformer(\n",
        "    transformers=[\n",
        "        ('num', numeric_transformer, numeric_features),\n",
        "        ('cat', categorical_transformer, categorical_features)\n",
        "    ])\n",
        "\n",
        "\n",
        "regressor = Pipeline(steps=[\n",
        "    ('preprocessor', preprocessor),\n",
        "    ('regressor', LinearRegression())\n",
        "])\n",
        "\n",
        "\n",
        "X_train, X_test, y_train, y_test = train_test_split(X, y, test_size=0.25, random_state=42)\n",
        "\n",
        "\n",
        "regressor.fit(X_train, y_train)\n",
        "\n",
        "\n",
        "y_pred = regressor.predict(X_test)\n",
        "mse = mean_squared_error(y_test, y_pred)\n",
        "print('Mean Squared Error:', mse)\n",
        "\n",
        "\n",
        "with open('vgame_sales.pkl', 'wb') as f:\n",
        "    pickle.dump(regressor, f)\n"
      ]
    },
    {
      "cell_type": "code",
      "execution_count": null,
      "metadata": {
        "colab": {
          "base_uri": "https://localhost:8080/"
        },
        "id": "PmVEeWRDpmdC",
        "outputId": "137ee427-f2fb-434e-9b35-e0417358bd02"
      },
      "outputs": [
        {
          "output_type": "stream",
          "name": "stdout",
          "text": [
            "[ 1.0641257  -0.08423353  0.73084273]\n"
          ]
        }
      ],
      "source": [
        "import pandas as pd\n",
        "import pickle\n",
        "\n",
        "test_data = pd.DataFrame({\n",
        "    'Year': [2006, 2017, 2018],\n",
        "    'Genre': ['Sports', 'Sports', 'Shooter'],\n",
        "    'Publisher': ['Nintendo', 'Microsoft', 'Valve']\n",
        "})\n",
        "\n",
        "\n",
        "with open('vgame_sales.pkl', 'rb') as f:\n",
        "    loaded_model = pickle.load(f)\n",
        "\n",
        "predictions = loaded_model.predict(test_data)\n",
        "\n",
        "print(predictions)\n"
      ]
    },
    {
      "cell_type": "code",
      "execution_count": null,
      "metadata": {
        "id": "l5J_oARoYQ-J"
      },
      "outputs": [],
      "source": []
    },
    {
      "cell_type": "code",
      "execution_count": null,
      "metadata": {
        "colab": {
          "base_uri": "https://localhost:8080/",
          "height": 599
        },
        "id": "hAdcAAsxcpVp",
        "outputId": "005e70eb-64cb-413b-b13f-503787111097"
      },
      "outputs": [
        {
          "data": {
            "image/png": "[encoded data removed]",
            "text/plain": [
              "<Figure size 1000x600 with 1 Axes>"
            ]
          },
          "metadata": {},
          "output_type": "display_data"
        }
      ],
      "source": [
        "import pandas as pd\n",
        "import matplotlib.pyplot as plt\n",
        "\n",
        "\n",
        "sales_by_year = df.groupby('Year')['Global_Sales'].sum()\n",
        "\n",
        "plt.figure(figsize=(10, 6))\n",
        "sales_by_year.plot(kind='bar', color='skyblue')\n",
        "plt.title('Global Sales by Year')\n",
        "plt.xlabel('Year')\n",
        "plt.ylabel('Global Sales')\n",
        "plt.show()\n"
      ]
    },
    {
      "cell_type": "code",
      "execution_count": null,
      "metadata": {
        "colab": {
          "base_uri": "https://localhost:8080/",
          "height": 651
        },
        "id": "X653JuGcek1W",
        "outputId": "4368750b-e01d-43dc-cb3b-569759edb9fc"
      },
      "outputs": [
        {
          "name": "stderr",
          "output_type": "stream",
          "text": [
            "<ipython-input-10-f691635827ac>:7: FutureWarning: \n",
            "\n",
            "The `ci` parameter is deprecated. Use `errorbar=None` for the same effect.\n",
            "\n",
            "  sns.barplot(x='Global_Sales', y='Platform', data=df, estimator=sum, ci=None, color='skyblue')\n"
          ]
        },
        {
          "data": {
            "image/png": "[encoded data removed]",
            "text/plain": [
              "<Figure size 1000x600 with 1 Axes>"
            ]
          },
          "metadata": {},
          "output_type": "display_data"
        }
      ],
      "source": [
        "import pandas as pd\n",
        "import seaborn as sns\n",
        "import matplotlib.pyplot as plt\n",
        "\n",
        "plt.figure(figsize=(10, 6))\n",
        "sns.barplot(x='Global_Sales', y='Platform', data=df, estimator=sum, ci=None, color='skyblue')\n",
        "plt.title('Global Sales by Platform')\n",
        "plt.ylabel('Platform')\n",
        "plt.xlabel('Global_Sales')\n",
        "plt.show()\n"
      ]
    }
  ],
  "metadata": {
    "colab": {
      "provenance": []
    },
    "kernelspec": {
      "display_name": "Python 3",
      "name": "python3"
    },
    "language_info": {
      "name": "python"
    }
  },
  "nbformat": 4,
  "nbformat_minor": 0
}